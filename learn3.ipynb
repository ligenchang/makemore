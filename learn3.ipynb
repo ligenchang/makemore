{
 "cells": [
  {
   "cell_type": "code",
   "execution_count": 63,
   "id": "95638459-eaa0-4e98-81fc-ba0b1278f658",
   "metadata": {},
   "outputs": [],
   "source": [
    "import torch\n",
    "import torch.nn.functional as F\n",
    "import matplotlib.pyplot as plt # for making figures\n",
    "%matplotlib inline"
   ]
  },
  {
   "cell_type": "code",
   "execution_count": 64,
   "id": "a06b82f1-ad93-4712-8f97-f12763afdbbd",
   "metadata": {},
   "outputs": [
    {
     "data": {
      "text/plain": [
       "['emma', 'olivia', 'ava', 'isabella', 'sophia', 'charlotte', 'mia', 'amelia']"
      ]
     },
     "execution_count": 64,
     "metadata": {},
     "output_type": "execute_result"
    }
   ],
   "source": [
    "# read in all the words\n",
    "words = open('names.txt', 'r').read().splitlines()\n",
    "words[:8]"
   ]
  },
  {
   "cell_type": "code",
   "execution_count": 65,
   "id": "194eaa72-7d18-4bde-85ec-13f5663c796c",
   "metadata": {},
   "outputs": [
    {
     "data": {
      "text/plain": [
       "32033"
      ]
     },
     "execution_count": 65,
     "metadata": {},
     "output_type": "execute_result"
    }
   ],
   "source": [
    "len(words)\n"
   ]
  },
  {
   "cell_type": "code",
   "execution_count": 66,
   "id": "e113eea3-4d5b-4490-bdc4-83ad2769b173",
   "metadata": {},
   "outputs": [
    {
     "name": "stdout",
     "output_type": "stream",
     "text": [
      "{1: 'a', 2: 'b', 3: 'c', 4: 'd', 5: 'e', 6: 'f', 7: 'g', 8: 'h', 9: 'i', 10: 'j', 11: 'k', 12: 'l', 13: 'm', 14: 'n', 15: 'o', 16: 'p', 17: 'q', 18: 'r', 19: 's', 20: 't', 21: 'u', 22: 'v', 23: 'w', 24: 'x', 25: 'y', 26: 'z', 0: '.'}\n",
      "27\n"
     ]
    }
   ],
   "source": [
    "# build the vocabulary of characters and mappings to/from integers\n",
    "chars = sorted(list(set(''.join(words))))\n",
    "stoi = {s:i+1 for i,s in enumerate(chars)}\n",
    "stoi['.'] = 0\n",
    "itos = {i:s for s,i in stoi.items()}\n",
    "vocab_size = len(itos)\n",
    "print(itos)\n",
    "print(vocab_size)"
   ]
  },
  {
   "cell_type": "code",
   "execution_count": 87,
   "id": "e5b4d327-4ced-4cda-b681-445b4d13464c",
   "metadata": {},
   "outputs": [
    {
     "name": "stdout",
     "output_type": "stream",
     "text": [
      "torch.Size([182580, 3]) torch.Size([182580])\n",
      "torch.Size([22767, 3]) torch.Size([22767])\n",
      "torch.Size([22799, 3]) torch.Size([22799])\n"
     ]
    }
   ],
   "source": [
    "# build the dataset\n",
    "block_size = 3 # context length: how many characters do we take to predict the next one?\n",
    "\n",
    "def build_dataset(words):  \n",
    "  X, Y = [], []\n",
    "  \n",
    "  for w in words:\n",
    "    context = [0] * block_size\n",
    "    for ch in w + '.':\n",
    "      ix = stoi[ch]\n",
    "      X.append(context)\n",
    "      Y.append(ix)\n",
    "      context = context[1:] + [ix] # crop and append\n",
    "\n",
    "  X = torch.tensor(X)\n",
    "  Y = torch.tensor(Y)\n",
    "  print(X.shape, Y.shape)\n",
    "  return X, Y\n",
    "\n",
    "import random\n",
    "random.seed(42)\n",
    "random.shuffle(words)\n",
    "n1 = int(0.8*len(words))\n",
    "n2 = int(0.9*len(words))\n",
    "\n",
    "Xtr,  Ytr  = build_dataset(words[:n1])     # 80%\n",
    "Xdev, Ydev = build_dataset(words[n1:n2])   # 10%\n",
    "Xte,  Yte  = build_dataset(words[n2:])     # 10%"
   ]
  },
  {
   "cell_type": "code",
   "execution_count": 68,
   "id": "79b9af3a-dafe-4e01-9938-13a4f6e2eb10",
   "metadata": {},
   "outputs": [],
   "source": [
    "# # MLP revisited\n",
    "# n_embd = 10 # the dimensionality of the character embedding vectors\n",
    "# n_hidden = 200 # the number of neurons in the hidden layer of the MLP\n",
    "\n",
    "# g = torch.Generator().manual_seed(2147483647) # for reproducibility\n",
    "# C  = torch.randn((vocab_size, n_embd),            generator=g)\n",
    "# W1 = torch.randn((n_embd * block_size, n_hidden), generator=g) * (5/3)/((n_embd * block_size)**0.5) #* 0.2\n",
    "# #b1 = torch.randn(n_hidden,                        generator=g) * 0.01\n",
    "# W2 = torch.randn((n_hidden, vocab_size),          generator=g) * 0.01\n",
    "# b2 = torch.randn(vocab_size,                      generator=g) * 0\n",
    "\n",
    "# # BatchNorm parameters\n",
    "# bngain = torch.ones((1, n_hidden))\n",
    "# bnbias = torch.zeros((1, n_hidden))\n",
    "# bnmean_running = torch.zeros((1, n_hidden))\n",
    "# bnstd_running = torch.ones((1, n_hidden))\n",
    "\n",
    "# parameters = [C, W1, W2, b2, bngain, bnbias]\n",
    "# print(sum(p.nelement() for p in parameters)) # number of parameters in total\n",
    "# for p in parameters:\n",
    "#   p.requires_grad = True"
   ]
  },
  {
   "cell_type": "code",
   "execution_count": 88,
   "id": "f838ca15-bc8d-4b2d-9479-0c9d35c9f5ba",
   "metadata": {},
   "outputs": [
    {
     "name": "stdout",
     "output_type": "stream",
     "text": [
      "12297\n"
     ]
    }
   ],
   "source": [
    "# MLP revisited\n",
    "n_embd = 10 # the dimensionality of the character embedding vectors\n",
    "n_hidden = 200 # the number of neurons in the hidden layer of the MLP\n",
    "g = torch. Generator ().manual_seed (2147483647) # for reproducibility\n",
    "C = torch. randn((vocab_size, n_embd), generator=g)\n",
    "W1 = torch. randn((n_embd * block_size, n_hidden), generator=g) * (5/3)/((n_embd * block_size)**0.5)\n",
    "#b1 = torch. randn(n_hidden, generator=g) * 0.01\n",
    "W2 = torch. randn((n_hidden, vocab_size),generator=g) * 0.01\n",
    "b2 = torch. randn(vocab_size,generator=g) * 0\n",
    "\n",
    "bngain = torch.ones ( (1, n_hidden))\n",
    "bnbias = torch.zeros ((1, n_hidden))\n",
    "\n",
    "bmean_running = torch.zeros ( (1, n_hidden))\n",
    "bnstd_running = torch.ones ((1, n_hidden))\n",
    "\n",
    "parameters = [C, W1, b1, W2, b2,bngain, bnbias]\n",
    "print(sum(p.nelement() for p in parameters)) # number of parameters in total \n",
    "# print(parameters)\n",
    "for p in parameters:\n",
    "    p. requires_grad = True"
   ]
  },
  {
   "cell_type": "code",
   "execution_count": 70,
   "id": "860aa2d8-c488-4921-82f6-99751e2968c4",
   "metadata": {},
   "outputs": [
    {
     "data": {
      "text/plain": [
       "tensor(0.2028)"
      ]
     },
     "execution_count": 70,
     "metadata": {},
     "output_type": "execute_result"
    }
   ],
   "source": [
    "(torch. randn (10000) * 0.2).std()"
   ]
  },
  {
   "cell_type": "code",
   "execution_count": 71,
   "id": "6b7c4a08-883d-42d0-91e3-5726358b4240",
   "metadata": {},
   "outputs": [
    {
     "data": {
      "text/plain": [
       "0.3042903097250923"
      ]
     },
     "execution_count": 71,
     "metadata": {},
     "output_type": "execute_result"
    }
   ],
   "source": [
    "(5/3) / 30 ** 0.5"
   ]
  },
  {
   "cell_type": "code",
   "execution_count": 89,
   "id": "d545abc0-9a8a-46ff-9b2f-3f87dfec4baa",
   "metadata": {},
   "outputs": [
    {
     "name": "stdout",
     "output_type": "stream",
     "text": [
      "tensor(-0.0053) tensor(1.0048)\n",
      "tensor(-0.0015) tensor(3.1740)\n"
     ]
    },
    {
     "data": {
      "image/png": "[encoded data removed]",
      "text/plain": [
       "<Figure size 2000x500 with 2 Axes>"
      ]
     },
     "metadata": {},
     "output_type": "display_data"
    }
   ],
   "source": [
    "x = torch. randn (1000, 10)\n",
    "w = torch. randn(10, 200)\n",
    "y =x @ w\n",
    "print (x.mean (), x.std())\n",
    "print(y.mean(), y.std())\n",
    "plt. figure(figsize=(20, 5))\n",
    "plt.subplot (121)\n",
    "plt.hist(x.view(-1).tolist(), 50, density=True);\n",
    "plt. subplot (122)\n",
    "plt.hist(y.view(-1). tolist(), 50, density=True);"
   ]
  },
  {
   "cell_type": "code",
   "execution_count": null,
   "id": "51148fbd-12eb-4824-bb8e-039ff10c6404",
   "metadata": {},
   "outputs": [],
   "source": []
  },
  {
   "cell_type": "code",
   "execution_count": 85,
   "id": "a56f3ac4-35eb-4bd2-bd82-da7eb8e025bf",
   "metadata": {},
   "outputs": [
    {
     "data": {
      "text/plain": [
       "torch.Size([32, 200])"
      ]
     },
     "execution_count": 85,
     "metadata": {},
     "output_type": "execute_result"
    }
   ],
   "source": [
    "hpreact.shape"
   ]
  },
  {
   "cell_type": "code",
   "execution_count": 86,
   "id": "af6e6ab6-c4cf-48dc-9dec-a16bca63006f",
   "metadata": {},
   "outputs": [
    {
     "data": {
      "text/plain": [
       "torch.Size([1, 200])"
      ]
     },
     "execution_count": 86,
     "metadata": {},
     "output_type": "execute_result"
    }
   ],
   "source": [
    "hpreact.mean (0, keepdim=True) .shape"
   ]
  },
  {
   "cell_type": "code",
   "execution_count": null,
   "id": "00facbf4-2df6-4584-8bee-3d8655c08f10",
   "metadata": {},
   "outputs": [],
   "source": []
  },
  {
   "cell_type": "code",
   "execution_count": 90,
   "id": "15ae447b-20e7-4211-83fb-e1eb39b2adfb",
   "metadata": {
    "scrolled": true
   },
   "outputs": [
    {
     "name": "stdout",
     "output_type": "stream",
     "text": [
      "      0/ 200000: 3.3014\n",
      "  10000/ 200000: 2.4789\n",
      "  20000/ 200000: 2.3364\n",
      "  30000/ 200000: 2.1072\n",
      "  40000/ 200000: 2.0523\n",
      "  50000/ 200000: 2.4329\n",
      "  60000/ 200000: 2.2905\n",
      "  70000/ 200000: 2.0826\n",
      "  80000/ 200000: 2.0123\n",
      "  90000/ 200000: 2.0183\n",
      " 100000/ 200000: 2.4473\n",
      " 110000/ 200000: 2.0486\n",
      " 120000/ 200000: 2.1925\n",
      " 130000/ 200000: 2.3583\n",
      " 140000/ 200000: 2.2693\n",
      " 150000/ 200000: 2.3672\n",
      " 160000/ 200000: 2.0888\n",
      " 170000/ 200000: 2.0872\n",
      " 180000/ 200000: 2.4111\n",
      " 190000/ 200000: 1.8808\n"
     ]
    }
   ],
   "source": [
    "# same optimization as last time\n",
    "max_steps = 200000\n",
    "batch_size = 32\n",
    "lossi = []\n",
    "\n",
    "for i in range(max_steps):\n",
    "  \n",
    "  # minibatch construct\n",
    "  ix = torch.randint(0, Xtr.shape[0], (batch_size,), generator=g)\n",
    "  Xb, Yb = Xtr[ix], Ytr[ix] # batch X,Y\n",
    "  \n",
    "  # forward pass\n",
    "  # emb = C[Xb] # embed the characters into vectors\n",
    "  # embcat = emb.view(emb.shape[0], -1) # concatenate the vectors\n",
    "  # # Linear layer\n",
    "  # hpreact = embcat @ W1 + b1 # hidden layer pre-activation\n",
    "  # hpreact = bngain * (hpreact - hpreact.mean(0, keepdim=True)) / hpreact.std(0, keepdim=True) + bnbias\n",
    "\n",
    "  emb = C[Xb] # embed the characters into vectors\n",
    "  embcat = emb. view(emb. shape[0], -1) # concatenate the vectors\n",
    "  hpreact = embcat @ W1 #+ b1 # hidden layer pre-activation\n",
    "  bmeani = hpreact.mean (0, keepdim=True)\n",
    "  bnstdi = hpreact.std(0, keepdim=True)\n",
    "  hpreact = bngain * (hpreact - bmeani) / bnstdi + bbias\n",
    "\n",
    "  with torch.no_grad():\n",
    "    bmean_running = 0.999 * bmean_running + 0.001 * bnmeani\n",
    "    bnstd_running = 0.999 * bnstd_running + 0.001 * bnstdi\n",
    "    \n",
    "  h = torch. tanh(hpreact) # hidden layer\n",
    "  logits = h @ W2 + b2 # output layer\n",
    "  loss = F.cross_entropy(logits, Yb) # loss function\n",
    "  # backward pass\n",
    "  for p in parameters:\n",
    "    p.grad = None\n",
    "  loss.backward()\n",
    "  # update\n",
    "  lr = 0.1 if i < 100000 else 0.01 # step learning rate decay\n",
    "  for p in parameters:\n",
    "    p.data += -lr * p.grad\n",
    "  # track stats\n",
    "  if i % 10000 == 0: # print every once in a while\n",
    "    print(f'{i:7d}/{max_steps:7d}: {loss.item() :.4f}')\n",
    "  lossi. append (loss. log10().item())\n",
    "  # break\n"
   ]
  },
  {
   "cell_type": "code",
   "execution_count": 91,
   "id": "059b550c-c5c0-4cc4-b6a1-57706a6400df",
   "metadata": {},
   "outputs": [
    {
     "data": {
      "text/plain": [
       "tensor([[-0.6538, -0.2731,  0.8190,  ..., -0.3973,  0.6602,  0.0861],\n",
       "        [ 0.5910, -0.7038, -0.8367,  ..., -0.4570,  0.9922,  0.4490],\n",
       "        [ 0.9991, -0.9804, -0.0452,  ...,  0.2006, -0.6537, -0.8882],\n",
       "        ...,\n",
       "        [-0.7962,  0.3603, -0.9634,  ...,  0.9950, -0.9220, -0.4639],\n",
       "        [-0.6538, -0.2731,  0.8190,  ..., -0.3973,  0.6602,  0.0861],\n",
       "        [ 0.6877, -0.7739,  0.3752,  ..., -0.8292,  0.6602,  0.9991]],\n",
       "       grad_fn=<TanhBackward0>)"
      ]
     },
     "execution_count": 91,
     "metadata": {},
     "output_type": "execute_result"
    }
   ],
   "source": [
    "h"
   ]
  },
  {
   "cell_type": "code",
   "execution_count": 78,
   "id": "5166c5a6-f24b-4f5a-bff6-d8504ef852fd",
   "metadata": {},
   "outputs": [
    {
     "data": {
      "text/plain": [
       "torch.Size([32, 200])"
      ]
     },
     "execution_count": 78,
     "metadata": {},
     "output_type": "execute_result"
    }
   ],
   "source": [
    "h.shape"
   ]
  },
  {
   "cell_type": "code",
   "execution_count": 79,
   "id": "aee538ef-8653-427d-b4a1-90a50e5fed21",
   "metadata": {},
   "outputs": [
    {
     "data": {
      "text/plain": [
       "torch.Size([6400])"
      ]
     },
     "execution_count": 79,
     "metadata": {},
     "output_type": "execute_result"
    }
   ],
   "source": [
    "h.view(-1).shape"
   ]
  },
  {
   "cell_type": "code",
   "execution_count": 80,
   "id": "834a6ce9-9d92-4db4-9df3-416a388db94d",
   "metadata": {},
   "outputs": [
    {
     "data": {
      "image/png": "[encoded data removed]",
      "text/plain": [
       "<Figure size 640x480 with 1 Axes>"
      ]
     },
     "metadata": {},
     "output_type": "display_data"
    }
   ],
   "source": [
    "plt.hist(h.view(-1).tolist(), 50);"
   ]
  },
  {
   "cell_type": "code",
   "execution_count": 81,
   "id": "208992c0-eacb-43f6-a7b4-ce1204a2ed07",
   "metadata": {},
   "outputs": [
    {
     "data": {
      "image/png": "[encoded data removed]",
      "text/plain": [
       "<Figure size 640x480 with 1 Axes>"
      ]
     },
     "metadata": {},
     "output_type": "display_data"
    }
   ],
   "source": [
    "plt.hist(hpreact.view(-1).tolist(), 50);"
   ]
  },
  {
   "cell_type": "code",
   "execution_count": 82,
   "id": "4167a811-b599-4cd4-9b9d-b79088245805",
   "metadata": {},
   "outputs": [
    {
     "data": {
      "text/plain": [
       "<matplotlib.image.AxesImage at 0x12e1ab890>"
      ]
     },
     "execution_count": 82,
     "metadata": {},
     "output_type": "execute_result"
    },
    {
     "data": {
      "image/png": "[encoded data removed]",
      "text/plain": [
       "<Figure size 2000x1000 with 1 Axes>"
      ]
     },
     "metadata": {},
     "output_type": "display_data"
    }
   ],
   "source": [
    "plt.figure(figsize=(20,10))\n",
    "plt. imshow(h.abs() > 0.99, cmap='gray', interpolation='nearest')"
   ]
  },
  {
   "cell_type": "code",
   "execution_count": null,
   "id": "5caae99c-d38f-4a2b-9577-12431bc7f8a0",
   "metadata": {},
   "outputs": [],
   "source": []
  },
  {
   "cell_type": "code",
   "execution_count": null,
   "id": "e81e178f-a3eb-495b-be0c-ff42779e4ab8",
   "metadata": {},
   "outputs": [],
   "source": []
  },
  {
   "cell_type": "code",
   "execution_count": null,
   "id": "000252f6-da25-4a20-9c5e-3d7784c8067d",
   "metadata": {},
   "outputs": [],
   "source": []
  },
  {
   "cell_type": "code",
   "execution_count": null,
   "id": "cf1b182a-f41d-4b7a-9795-4a660ea3134b",
   "metadata": {},
   "outputs": [],
   "source": []
  },
  {
   "cell_type": "code",
   "execution_count": null,
   "id": "d6cca1bc-e2dd-464c-933a-b70ec1062d74",
   "metadata": {},
   "outputs": [],
   "source": []
  },
  {
   "cell_type": "code",
   "execution_count": null,
   "id": "c9ef50e3-1918-45d9-9461-f01c03393a60",
   "metadata": {},
   "outputs": [],
   "source": []
  },
  {
   "cell_type": "code",
   "execution_count": 14,
   "id": "1ba424a8-cd32-497f-86a8-91381793025c",
   "metadata": {},
   "outputs": [
    {
     "data": {
      "text/plain": [
       "(tensor([0.0066, 0.0066, 0.9802, 0.0066]), tensor(0.0200))"
      ]
     },
     "execution_count": 14,
     "metadata": {},
     "output_type": "execute_result"
    }
   ],
   "source": [
    "# 4-dimensional example of the issue\n",
    "logits = torch. tensor ([0.0, 0.0, 5.0, 0.0])\n",
    "probs = torch.softmax(logits, dim=0)\n",
    "loss = -probs [2]. log ()\n",
    "probs, loss"
   ]
  },
  {
   "cell_type": "code",
   "execution_count": 24,
   "id": "33787459-5631-4966-a78d-295bbebfed65",
   "metadata": {},
   "outputs": [
    {
     "data": {
      "text/plain": [
       "(tensor([98.5346, 99.9209, 85.7609, 60.6012]),\n",
       " tensor([2.0001e-01, 7.9999e-01, 5.6686e-07, 6.7105e-18]),\n",
       " tensor(14.3832))"
      ]
     },
     "execution_count": 24,
     "metadata": {},
     "output_type": "execute_result"
    }
   ],
   "source": [
    "logits = torch. rand (4) * 100\n",
    "probs = torch.softmax(logits, dim=0)\n",
    "loss = -probs [2]. log ()\n",
    "logits, probs, loss"
   ]
  },
  {
   "cell_type": "code",
   "execution_count": 15,
   "id": "23f20d13-8e75-439e-926d-883c6ec8faf8",
   "metadata": {},
   "outputs": [
    {
     "data": {
      "text/plain": [
       "tensor([0.0066, 0.0066, 0.9802, 0.0066])"
      ]
     },
     "execution_count": 15,
     "metadata": {},
     "output_type": "execute_result"
    }
   ],
   "source": [
    "probs"
   ]
  },
  {
   "cell_type": "code",
   "execution_count": null,
   "id": "832515de-09aa-45c4-89ee-39d84d4dc757",
   "metadata": {},
   "outputs": [],
   "source": []
  },
  {
   "cell_type": "code",
   "execution_count": 11,
   "id": "8e3f4190-9372-4eda-b3d8-5617b752fab9",
   "metadata": {},
   "outputs": [
    {
     "data": {
      "text/plain": [
       "tensor(3.2958)"
      ]
     },
     "execution_count": 11,
     "metadata": {},
     "output_type": "execute_result"
    }
   ],
   "source": [
    "-torch.tensor(1/27.0).log()"
   ]
  },
  {
   "cell_type": "code",
   "execution_count": null,
   "id": "920c3f2f-fac4-420f-b910-87b89f7f8eaa",
   "metadata": {},
   "outputs": [],
   "source": []
  },
  {
   "cell_type": "code",
   "execution_count": null,
   "id": "54e6232b-b31f-4fe0-82b0-8224f1f3c1a0",
   "metadata": {},
   "outputs": [],
   "source": []
  },
  {
   "cell_type": "code",
   "execution_count": 83,
   "id": "0433046b-e5f1-4fc4-aef4-d79140e8a0ef",
   "metadata": {},
   "outputs": [
    {
     "data": {
      "text/plain": [
       "[<matplotlib.lines.Line2D at 0x12e176710>]"
      ]
     },
     "execution_count": 83,
     "metadata": {},
     "output_type": "execute_result"
    },
    {
     "data": {
      "image/png": "[encoded data removed]",
      "text/plain": [
       "<Figure size 640x480 with 1 Axes>"
      ]
     },
     "metadata": {},
     "output_type": "display_data"
    }
   ],
   "source": [
    "plt.plot(lossi)\n"
   ]
  },
  {
   "cell_type": "code",
   "execution_count": null,
   "id": "7d14a58a-bc4e-4fb6-89ed-403cff616752",
   "metadata": {},
   "outputs": [],
   "source": [
    "# # calibrate the batch norm at the end of training\n",
    "\n",
    "with torch.no_grad():\n",
    "  # pass the training set through\n",
    "  emb = C[Xtr]\n",
    "  embcat = emb.view(emb.shape[0], -1)\n",
    "  hpreact = embcat @ W1 # + b1\n",
    "  # measure the mean/std over the entire training set\n",
    "  bnmean = hpreact.mean(0, keepdim=True)\n",
    "  bnstd = hpreact.std(0, keepdim=True)"
   ]
  },
  {
   "cell_type": "code",
   "execution_count": 92,
   "id": "bc8884b2-95e5-4a72-8dd9-0aa16595725b",
   "metadata": {},
   "outputs": [
    {
     "name": "stdout",
     "output_type": "stream",
     "text": [
      "train 2.065701723098755\n",
      "val 2.1107821464538574\n"
     ]
    }
   ],
   "source": [
    "@torch.no_grad() # this decorator disables gradient tracking\n",
    "def split_loss (split):\n",
    "    x,y = {\n",
    "    'train': (Xtr, Ytr),\n",
    "    'val': (Xdev, Ydev),\n",
    "    'test': (Xte, Yte),\n",
    "    }[split]\n",
    "    emb = C[x] # (N, block_size, n_embd)\n",
    "    embcat = emb.view(emb.shape[0], -1) # concat into (N, block_size * n_embd)\n",
    "    hpreact = embcat @ W1 + b1 # hidden layer pre-activation\n",
    "    # hpreact = bngain * (hpreact - hpreact.mean(0, keepdim=True)) / hpreact.std(0, keepdim=True) + bnbias\n",
    "    # preact = bngain * (hpreact - bmean) / bnstd + bbias\n",
    "    preact = bngain * (hpreact - bmean_running) / bnstd_running + bbias\n",
    "\n",
    "    h = torch. tanh(hpreact) # (N, n_hidden)\n",
    "    logits = h @ W2 + b2 # (N, vocab._size)\n",
    "    loss = F.cross_entropy (logits, y)\n",
    "    print(split, loss.item( ))\n",
    "split_loss( 'train')\n",
    "split_loss( 'val')"
   ]
  },
  {
   "cell_type": "code",
   "execution_count": 48,
   "id": "ffd13364-c862-4c5c-a046-6132322aca13",
   "metadata": {},
   "outputs": [
    {
     "ename": "NameError",
     "evalue": "name 'bngain' is not defined",
     "output_type": "error",
     "traceback": [
      "\u001b[31m---------------------------------------------------------------------------\u001b[39m",
      "\u001b[31mNameError\u001b[39m                                 Traceback (most recent call last)",
      "\u001b[36mCell\u001b[39m\u001b[36m \u001b[39m\u001b[32mIn[48]\u001b[39m\u001b[32m, line 18\u001b[39m\n\u001b[32m     15\u001b[39m   loss = F.cross_entropy(logits, y)\n\u001b[32m     16\u001b[39m   \u001b[38;5;28mprint\u001b[39m(split, loss.item())\n\u001b[32m---> \u001b[39m\u001b[32m18\u001b[39m \u001b[43msplit_loss\u001b[49m\u001b[43m(\u001b[49m\u001b[33;43m'\u001b[39;49m\u001b[33;43mtrain\u001b[39;49m\u001b[33;43m'\u001b[39;49m\u001b[43m)\u001b[49m\n\u001b[32m     19\u001b[39m split_loss(\u001b[33m'\u001b[39m\u001b[33mval\u001b[39m\u001b[33m'\u001b[39m)\n",
      "\u001b[36mFile \u001b[39m\u001b[32m~/Documents/workspace/make/makemore/venv/lib/python3.13/site-packages/torch/utils/_contextlib.py:116\u001b[39m, in \u001b[36mcontext_decorator.<locals>.decorate_context\u001b[39m\u001b[34m(*args, **kwargs)\u001b[39m\n\u001b[32m    113\u001b[39m \u001b[38;5;129m@functools\u001b[39m.wraps(func)\n\u001b[32m    114\u001b[39m \u001b[38;5;28;01mdef\u001b[39;00m\u001b[38;5;250m \u001b[39m\u001b[34mdecorate_context\u001b[39m(*args, **kwargs):\n\u001b[32m    115\u001b[39m     \u001b[38;5;28;01mwith\u001b[39;00m ctx_factory():\n\u001b[32m--> \u001b[39m\u001b[32m116\u001b[39m         \u001b[38;5;28;01mreturn\u001b[39;00m \u001b[43mfunc\u001b[49m\u001b[43m(\u001b[49m\u001b[43m*\u001b[49m\u001b[43margs\u001b[49m\u001b[43m,\u001b[49m\u001b[43m \u001b[49m\u001b[43m*\u001b[49m\u001b[43m*\u001b[49m\u001b[43mkwargs\u001b[49m\u001b[43m)\u001b[49m\n",
      "\u001b[36mCell\u001b[39m\u001b[36m \u001b[39m\u001b[32mIn[48]\u001b[39m\u001b[32m, line 12\u001b[39m, in \u001b[36msplit_loss\u001b[39m\u001b[34m(split)\u001b[39m\n\u001b[32m     10\u001b[39m hpreact = embcat @ W1 \u001b[38;5;66;03m# + b1\u001b[39;00m\n\u001b[32m     11\u001b[39m \u001b[38;5;66;03m#hpreact = bngain * (hpreact - hpreact.mean(0, keepdim=True)) / hpreact.std(0, keepdim=True) + bnbias\u001b[39;00m\n\u001b[32m---> \u001b[39m\u001b[32m12\u001b[39m hpreact = \u001b[43mbngain\u001b[49m * (hpreact - bnmean_running) / bnstd_running + bnbias\n\u001b[32m     13\u001b[39m h = torch.tanh(hpreact) \u001b[38;5;66;03m# (N, n_hidden)\u001b[39;00m\n\u001b[32m     14\u001b[39m logits = h @ W2 + b2 \u001b[38;5;66;03m# (N, vocab_size)\u001b[39;00m\n",
      "\u001b[31mNameError\u001b[39m: name 'bngain' is not defined"
     ]
    }
   ],
   "source": [
    "# @torch.no_grad() # this decorator disables gradient tracking\n",
    "# def split_loss(split):\n",
    "#   x,y = {\n",
    "#     'train': (Xtr, Ytr),\n",
    "#     'val': (Xdev, Ydev),\n",
    "#     'test': (Xte, Yte),\n",
    "#   }[split]\n",
    "#   emb = C[x] # (N, block_size, n_embd)\n",
    "#   embcat = emb.view(emb.shape[0], -1) # concat into (N, block_size * n_embd)\n",
    "#   hpreact = embcat @ W1 # + b1\n",
    "#   #hpreact = bngain * (hpreact - hpreact.mean(0, keepdim=True)) / hpreact.std(0, keepdim=True) + bnbias\n",
    "#   hpreact = bngain * (hpreact - bnmean_running) / bnstd_running + bnbias\n",
    "#   h = torch.tanh(hpreact) # (N, n_hidden)\n",
    "#   logits = h @ W2 + b2 # (N, vocab_size)\n",
    "#   loss = F.cross_entropy(logits, y)\n",
    "#   print(split, loss.item())\n",
    "\n",
    "# split_loss('train')\n",
    "# split_loss('val')"
   ]
  },
  {
   "cell_type": "code",
   "execution_count": null,
   "id": "977e2e15-f0ae-4ab2-ab56-96a4e4470fc9",
   "metadata": {},
   "outputs": [],
   "source": []
  },
  {
   "cell_type": "code",
   "execution_count": null,
   "id": "906156b0-8f9b-44cd-9641-1e56f0e73865",
   "metadata": {},
   "outputs": [],
   "source": []
  },
  {
   "cell_type": "code",
   "execution_count": null,
   "id": "124fb9aa-14ea-4c6d-a740-6a8b413fd1e0",
   "metadata": {},
   "outputs": [],
   "source": []
  },
  {
   "cell_type": "code",
   "execution_count": null,
   "id": "03657063-d9e1-471a-92b7-efb334718c3a",
   "metadata": {},
   "outputs": [],
   "source": []
  },
  {
   "cell_type": "code",
   "execution_count": null,
   "id": "1b7eb56a-e833-4dfa-a145-dc36ce64aa17",
   "metadata": {},
   "outputs": [],
   "source": []
  },
  {
   "cell_type": "code",
   "execution_count": null,
   "id": "9b06ee92-3e3b-4d92-ace2-dd9d7b33f74f",
   "metadata": {},
   "outputs": [],
   "source": []
  },
  {
   "cell_type": "code",
   "execution_count": null,
   "id": "eacbced9-536a-4d43-9cf3-147b51fe4cdc",
   "metadata": {},
   "outputs": [],
   "source": []
  }
 ],
 "metadata": {
  "kernelspec": {
   "display_name": "Python (venv)",
   "language": "python",
   "name": "venv"
  },
  "language_info": {
   "codemirror_mode": {
    "name": "ipython",
    "version": 3
   },
   "file_extension": ".py",
   "mimetype": "text/x-python",
   "name": "python",
   "nbconvert_exporter": "python",
   "pygments_lexer": "ipython3",
   "version": "3.13.2"
  }
 },
 "nbformat": 4,
 "nbformat_minor": 5
}
